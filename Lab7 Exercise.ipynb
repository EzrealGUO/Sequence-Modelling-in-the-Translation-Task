{
 "cells": [
  {
   "cell_type": "code",
   "execution_count": 25,
   "id": "92964108",
   "metadata": {},
   "outputs": [
    {
     "data": {
      "text/plain": [
       "<torch._C.Generator at 0x200013109d0>"
      ]
     },
     "execution_count": 25,
     "metadata": {},
     "output_type": "execute_result"
    }
   ],
   "source": [
    "from torchvision.datasets.utils import download_url\n",
    "from torch.utils.data import Dataset, DataLoader, random_split\n",
    "from torch.nn.utils.rnn import pad_sequence\n",
    "from torch import nn\n",
    "from torch.nn import functional as F\n",
    "from torch import optim\n",
    "from tqdm.autonotebook import tqdm\n",
    "from textwrap import wrap\n",
    "import random\n",
    "import sys\n",
    "import io\n",
    "import random\n",
    "import numpy as np\n",
    "import torch\n",
    "\n",
    "torch.manual_seed(0)"
   ]
  },
  {
   "cell_type": "code",
   "execution_count": 26,
   "id": "a51226ff",
   "metadata": {},
   "outputs": [
    {
     "name": "stdout",
     "output_type": "stream",
     "text": [
      "Using downloaded and verified file: .\\dataset.txt\n"
     ]
    }
   ],
   "source": [
    "# Defines a dataset object which parses our data file and performs numericalisation of the sequence data:\n",
    "class CodeDataset(Dataset):\n",
    "    def __init__(self):\n",
    "        download_url('https://github.com/ecs-vlc/COMP6248/raw/master/exercises/lab7/dataset.txt', '.', 'dataset.txt', None)\n",
    "        with io.open('dataset.txt', 'r') as f:\n",
    "            self.data = f.readlines()\n",
    "\n",
    "        self.PAD='_'\n",
    "        self.SOS='^'\n",
    "        self.EOS='$'\n",
    "        self.PAD_IDX=0\n",
    "\n",
    "        # construct the vocabularies to numericalise the data\n",
    "        self.alphabet = \"*\".join(self.PAD+self.SOS+self.EOS+\"abcdefghijklmnopqrstuvwxyz \").split('*')\n",
    "\n",
    "        self.alphabet_indices = dict((c, i) for i, c in enumerate(self.alphabet))\n",
    "        self.indices_alphabet = dict((i, c) for i, c in enumerate(self.alphabet))\n",
    "\n",
    "        self.morsebet = self.PAD+self.SOS+self.EOS+'.- /'\n",
    "        self.morse_indices = dict((c, i) for i, c in enumerate(self.morsebet))\n",
    "        self.indices_morse = dict((i, c) for i, c in enumerate(self.morsebet))\n",
    "\n",
    "    def encode_alpha(self, inp):\n",
    "        x = torch.zeros(len(inp), dtype=torch.long)\n",
    "        for t, char in enumerate(inp):\n",
    "            x[t] = self.alphabet_indices[char]\n",
    "\n",
    "        return x\n",
    "\n",
    "    def decode_alpha(self, ten, skip_tok=False):\n",
    "        s = ''\n",
    "        ten = ten.view(-1)\n",
    "        for v in ten.view(-1):\n",
    "            if not skip_tok:\n",
    "                s += self.indices_alphabet[v.item()]\n",
    "            elif v>2:\n",
    "                s += self.indices_alphabet[v.item()]\n",
    "        return s\n",
    "\n",
    "    def encode_morse(self, inp):\n",
    "        x = torch.zeros(len(inp), dtype=torch.long)\n",
    "        for t, char in enumerate(inp):\n",
    "            x[t] = self.morse_indices[char]\n",
    "\n",
    "        return x\n",
    "\n",
    "    def decode_morse(self, ten):\n",
    "        s = ''\n",
    "        for v in ten:\n",
    "          s += self.indices_morse[v]\n",
    "        return s\n",
    "\n",
    "    def __len__(self):\n",
    "        return len(self.data)\n",
    "\n",
    "    def __getitem__(self, i):\n",
    "        inp, out = self.data[i].strip().split('|')\n",
    "        x = self.encode_morse(inp)\n",
    "        y = self.encode_alpha(out[::-1])\n",
    "        return x, y\n",
    "\n",
    "\n",
    "# This will be used to automatically pad all batch items to the same length\n",
    "def pad_collate(batch): \n",
    "    data = [item[0] for item in batch]\n",
    "    data = pad_sequence(data)\n",
    "    targets = [item[1] for item in batch]\n",
    "    targets = pad_sequence(targets)\n",
    "    return [data, targets]\n",
    "\n",
    "# Load the data and split randomly into training and val subsets\n",
    "ds = CodeDataset()\n",
    "tr, va = random_split(ds, [len(ds) - len(ds)//3, len(ds)//3])\n",
    "trainloader = DataLoader(tr, batch_size=1024, shuffle=True, collate_fn=pad_collate)\n",
    "valloader = DataLoader(va, batch_size=1024, shuffle=False, collate_fn=pad_collate)"
   ]
  },
  {
   "cell_type": "code",
   "execution_count": 27,
   "id": "9a59c237",
   "metadata": {},
   "outputs": [],
   "source": [
    "# Define the model architecture, which is made up of an encoder, a decoder and the Seq2Seq class which ties everything together:\n",
    "class Encoder(nn.Module): \n",
    "    def __init__(self, input_dim, emb_dim, hid_dim):\n",
    "        super().__init__()\n",
    "        \n",
    "        self.hid_dim = hid_dim\n",
    "        self.embedding = nn.Embedding(input_dim, emb_dim)\n",
    "        self.rnn = nn.LSTM(emb_dim, hid_dim)\n",
    "        \n",
    "    def forward(self, src):\n",
    "        embedded = self.embedding(src)\n",
    "        _, (hidden, cell) = self.rnn(embedded)\n",
    "        return (hidden, cell)\n",
    "\n",
    "\n",
    "class Decoder(nn.Module):\n",
    "    def __init__(self, output_dim, emb_dim, hid_dim):\n",
    "        super().__init__()\n",
    "        \n",
    "        self.output_dim = output_dim\n",
    "        self.hid_dim = hid_dim\n",
    "        self.embedding = nn.Embedding(output_dim, emb_dim)\n",
    "        self.rnn = nn.LSTM(emb_dim, hid_dim)\n",
    "        self.fc_out = nn.Linear(hid_dim, output_dim)\n",
    "        \n",
    "    def forward(self, input, hidden, cell):\n",
    "        input = input.unsqueeze(0)\n",
    "        embedded = self.embedding(input)\n",
    "        output, (hidden, cell) = self.rnn(embedded, (hidden, cell))        \n",
    "        prediction = self.fc_out(output.squeeze(0))\n",
    "        return prediction, hidden, cell\n",
    "\n",
    "\n",
    "class Seq2Seq(nn.Module):\n",
    "    def __init__(self, encoder, decoder):\n",
    "        super().__init__()\n",
    "        \n",
    "        self.encoder = encoder\n",
    "        self.decoder = decoder\n",
    "        \n",
    "    def forward(self, src, trg=None, teacher_forcing_ratio = 0.5, maxlen=5, padding_idx=0):\n",
    "        batch_size = src.shape[1]\n",
    "        trg_len = trg.shape[0] if trg is not None else maxlen\n",
    "        trg_vocab_size = self.decoder.output_dim\n",
    "\n",
    "        outputs = torch.zeros(trg_len, batch_size, trg_vocab_size).to(src.device)\n",
    "        hidden, cell = self.encoder(src)\n",
    "\n",
    "        input = torch.ones(batch_size, dtype=torch.long, device=src.device) * padding_idx\n",
    "        for t in range(1, trg_len):\n",
    "            output, hidden, cell = self.decoder(input, hidden, cell)\n",
    "            outputs[t] = output\n",
    "            \n",
    "            teacher_force = random.random() < teacher_forcing_ratio\n",
    "            top1 = output.argmax(1) \n",
    "            input = trg[t] if teacher_force and trg is not None else top1\n",
    "        \n",
    "        return outputs\n",
    "\n",
    "\n",
    "INPUT_DIM = len(ds.morsebet)\n",
    "OUTPUT_DIM = len(ds.alphabet)\n",
    "ENC_EMB_DIM = 128\n",
    "DEC_EMB_DIM = 128\n",
    "HID_DIM = 256\n",
    "\n",
    "enc = Encoder(INPUT_DIM, ENC_EMB_DIM, HID_DIM)\n",
    "dec = Decoder(OUTPUT_DIM, DEC_EMB_DIM, HID_DIM)\n",
    "model = Seq2Seq(enc, dec).cuda()"
   ]
  },
  {
   "cell_type": "code",
   "execution_count": 29,
   "id": "2a2c7301",
   "metadata": {},
   "outputs": [
    {
     "name": "stdout",
     "output_type": "stream",
     "text": [
      "tensor([2.3559, 1.6373, 0.7312, 0.2447, 0.0958, 0.0432, 0.0240, 0.0143, 0.0100,\n",
      "        0.0069])\n",
      "tensor([2.2882, 1.2113, 0.4715, 0.1738, 0.0841, 0.0394, 0.0233, 0.0148, 0.0147,\n",
      "        0.0084])\n"
     ]
    },
    {
     "data": {
      "image/png": "[encoded data removed]",
      "text/plain": [
       "<Figure size 360x360 with 1 Axes>"
      ]
     },
     "metadata": {
      "needs_background": "light"
     },
     "output_type": "display_data"
    }
   ],
   "source": [
    "print(loss_epoch_training)\n",
    "print(loss_epoch_validation)\n",
    "import matplotlib.pyplot as plt\n",
    "fig, ax = plt.subplots(figsize=(5,5))\n",
    "# ax.plot(np.arange(0,10), loss_epoch, 'b', label = \"Training\")\n",
    "ax.plot(range(10), loss_epoch_training, 'b', label = \"Training\")\n",
    "ax.plot(range(10), loss_epoch_validation, 'r', label = \"Validation\")\n",
    "ax.grid(True)\n",
    "ax.legend()\n",
    "ax.set_ylabel('Training and Validation Loss', fontsize=14)\n",
    "ax.set_xlabel('Iteration', fontsize=14)\n",
    "\n",
    "plt.savefig(\"Training LSTM.png\")"
   ]
  },
  {
   "cell_type": "code",
   "execution_count": 28,
   "id": "d0ebfd21",
   "metadata": {},
   "outputs": [
    {
     "data": {
      "application/vnd.jupyter.widget-view+json": {
       "model_id": "98ddfeedab784663b1cabd96307420de",
       "version_major": 2,
       "version_minor": 0
      },
      "text/plain": [
       "train:   0%|          | 0/163 [00:00<?, ?it/s]"
      ]
     },
     "metadata": {},
     "output_type": "display_data"
    },
    {
     "data": {
      "application/vnd.jupyter.widget-view+json": {
       "model_id": "a25e89c4b2bc455c90a16a2d6c269f05",
       "version_major": 2,
       "version_minor": 0
      },
      "text/plain": [
       "val:   0%|          | 0/82 [00:00<?, ?it/s]"
      ]
     },
     "metadata": {},
     "output_type": "display_data"
    },
    {
     "data": {
      "application/vnd.jupyter.widget-view+json": {
       "model_id": "4d55f635981647dbafa51956a1d735c1",
       "version_major": 2,
       "version_minor": 0
      },
      "text/plain": [
       "train:   0%|          | 0/163 [00:00<?, ?it/s]"
      ]
     },
     "metadata": {},
     "output_type": "display_data"
    },
    {
     "data": {
      "application/vnd.jupyter.widget-view+json": {
       "model_id": "6a6af5edba874a7bb0715009943b47a8",
       "version_major": 2,
       "version_minor": 0
      },
      "text/plain": [
       "val:   0%|          | 0/82 [00:00<?, ?it/s]"
      ]
     },
     "metadata": {},
     "output_type": "display_data"
    },
    {
     "data": {
      "application/vnd.jupyter.widget-view+json": {
       "model_id": "eb872fdd264348908e032fbf764fab45",
       "version_major": 2,
       "version_minor": 0
      },
      "text/plain": [
       "train:   0%|          | 0/163 [00:00<?, ?it/s]"
      ]
     },
     "metadata": {},
     "output_type": "display_data"
    },
    {
     "data": {
      "application/vnd.jupyter.widget-view+json": {
       "model_id": "1a41109907884adf8cbc77e47ba78423",
       "version_major": 2,
       "version_minor": 0
      },
      "text/plain": [
       "val:   0%|          | 0/82 [00:00<?, ?it/s]"
      ]
     },
     "metadata": {},
     "output_type": "display_data"
    },
    {
     "data": {
      "application/vnd.jupyter.widget-view+json": {
       "model_id": "18969c6405eb46e7988f010ad066ccca",
       "version_major": 2,
       "version_minor": 0
      },
      "text/plain": [
       "train:   0%|          | 0/163 [00:00<?, ?it/s]"
      ]
     },
     "metadata": {},
     "output_type": "display_data"
    },
    {
     "data": {
      "application/vnd.jupyter.widget-view+json": {
       "model_id": "dfc4da1f1ebb4e69bb774e53cff3a225",
       "version_major": 2,
       "version_minor": 0
      },
      "text/plain": [
       "val:   0%|          | 0/82 [00:00<?, ?it/s]"
      ]
     },
     "metadata": {},
     "output_type": "display_data"
    },
    {
     "data": {
      "application/vnd.jupyter.widget-view+json": {
       "model_id": "aaab9624910f4d8a857caf2cd5192ced",
       "version_major": 2,
       "version_minor": 0
      },
      "text/plain": [
       "train:   0%|          | 0/163 [00:00<?, ?it/s]"
      ]
     },
     "metadata": {},
     "output_type": "display_data"
    },
    {
     "data": {
      "application/vnd.jupyter.widget-view+json": {
       "model_id": "347f58ca4b5d4906ab6c8e88f41e513d",
       "version_major": 2,
       "version_minor": 0
      },
      "text/plain": [
       "val:   0%|          | 0/82 [00:00<?, ?it/s]"
      ]
     },
     "metadata": {},
     "output_type": "display_data"
    },
    {
     "data": {
      "application/vnd.jupyter.widget-view+json": {
       "model_id": "cff62d75bd894ad99cf45e3f1f255534",
       "version_major": 2,
       "version_minor": 0
      },
      "text/plain": [
       "train:   0%|          | 0/163 [00:00<?, ?it/s]"
      ]
     },
     "metadata": {},
     "output_type": "display_data"
    },
    {
     "data": {
      "application/vnd.jupyter.widget-view+json": {
       "model_id": "45974588691540fa96c31621666bca4b",
       "version_major": 2,
       "version_minor": 0
      },
      "text/plain": [
       "val:   0%|          | 0/82 [00:00<?, ?it/s]"
      ]
     },
     "metadata": {},
     "output_type": "display_data"
    },
    {
     "data": {
      "application/vnd.jupyter.widget-view+json": {
       "model_id": "c84aa3ffb92e47f0ba3e70710e69345f",
       "version_major": 2,
       "version_minor": 0
      },
      "text/plain": [
       "train:   0%|          | 0/163 [00:00<?, ?it/s]"
      ]
     },
     "metadata": {},
     "output_type": "display_data"
    },
    {
     "data": {
      "application/vnd.jupyter.widget-view+json": {
       "model_id": "1de6d9c6eb3e42848971d5eb811aad0a",
       "version_major": 2,
       "version_minor": 0
      },
      "text/plain": [
       "val:   0%|          | 0/82 [00:00<?, ?it/s]"
      ]
     },
     "metadata": {},
     "output_type": "display_data"
    },
    {
     "data": {
      "application/vnd.jupyter.widget-view+json": {
       "model_id": "8539477bfcc44f29a0c1c189ed9d5426",
       "version_major": 2,
       "version_minor": 0
      },
      "text/plain": [
       "train:   0%|          | 0/163 [00:00<?, ?it/s]"
      ]
     },
     "metadata": {},
     "output_type": "display_data"
    },
    {
     "data": {
      "application/vnd.jupyter.widget-view+json": {
       "model_id": "d2592eb6f2494df2b7ad9039d618139f",
       "version_major": 2,
       "version_minor": 0
      },
      "text/plain": [
       "val:   0%|          | 0/82 [00:00<?, ?it/s]"
      ]
     },
     "metadata": {},
     "output_type": "display_data"
    },
    {
     "data": {
      "application/vnd.jupyter.widget-view+json": {
       "model_id": "d5cbd118dc7a49c79dfacc15617fa29e",
       "version_major": 2,
       "version_minor": 0
      },
      "text/plain": [
       "train:   0%|          | 0/163 [00:00<?, ?it/s]"
      ]
     },
     "metadata": {},
     "output_type": "display_data"
    },
    {
     "data": {
      "application/vnd.jupyter.widget-view+json": {
       "model_id": "5ed4698717354b8cbcb1f3b503a2fbdd",
       "version_major": 2,
       "version_minor": 0
      },
      "text/plain": [
       "val:   0%|          | 0/82 [00:00<?, ?it/s]"
      ]
     },
     "metadata": {},
     "output_type": "display_data"
    },
    {
     "data": {
      "application/vnd.jupyter.widget-view+json": {
       "model_id": "da366b317d6a4505bf4049dfd7f59303",
       "version_major": 2,
       "version_minor": 0
      },
      "text/plain": [
       "train:   0%|          | 0/163 [00:00<?, ?it/s]"
      ]
     },
     "metadata": {},
     "output_type": "display_data"
    },
    {
     "data": {
      "application/vnd.jupyter.widget-view+json": {
       "model_id": "b54d93c927cb4677a64fee36336e4b1f",
       "version_major": 2,
       "version_minor": 0
      },
      "text/plain": [
       "val:   0%|          | 0/82 [00:00<?, ?it/s]"
      ]
     },
     "metadata": {},
     "output_type": "display_data"
    }
   ],
   "source": [
    "# Train and evaluate the model:\n",
    "crit = nn.CrossEntropyLoss(ignore_index=ds.PAD_IDX)\n",
    "opt = optim.Adam(model.parameters())\n",
    "loss_epoch_training = torch.zeros(10)\n",
    "loss_epoch_validation = torch.zeros(10)\n",
    "for e in range(10):\n",
    "    model.train()\n",
    "\n",
    "    with tqdm(total=len(trainloader), desc='train') as t:\n",
    "        epoch_loss = 0\n",
    "        for i, (x, y) in enumerate(trainloader):\n",
    "            x = x.cuda()\n",
    "            y = y.cuda()\n",
    "\n",
    "            opt.zero_grad()\n",
    "            pred = model(x, y, padding_idx=ds.PAD_IDX)\n",
    "\n",
    "            pred_dim = pred.shape[-1]\n",
    "            pred = pred[1:].view(-1, pred_dim)\n",
    "            y = y[1:].view(-1)\n",
    "\n",
    "            loss = crit(pred, y)\n",
    "            loss.backward()\n",
    "            opt.step()\n",
    "\n",
    "            epoch_loss = (epoch_loss*i + loss.item()) / (i+1)\n",
    "\n",
    "            t.set_postfix(loss='{:05.3f}'.format(epoch_loss))\n",
    "            t.update()\n",
    "            \n",
    "    loss_epoch_training[e] = epoch_loss\n",
    "    model.eval()\n",
    "    with tqdm(total=len(valloader), desc='val') as t:\n",
    "        with torch.no_grad():\n",
    "            epoch_loss = 0\n",
    "            for i, (x, y) in enumerate(valloader):\n",
    "                x = x.cuda()\n",
    "                y = y.cuda()\n",
    "\n",
    "                pred = model(x, y, teacher_forcing_ratio=0, padding_idx=ds.PAD_IDX)\n",
    "\n",
    "                pred_dim = pred.shape[-1]\n",
    "                pred = pred[1:].view(-1, pred_dim)\n",
    "                y = y[1:].view(-1)\n",
    "\n",
    "                loss = crit(pred, y)\n",
    "                epoch_loss = (epoch_loss*i + loss.item()) / (i+1)\n",
    "\n",
    "                t.set_postfix(loss='{:05.3f}'.format(epoch_loss))\n",
    "                t.update()\n",
    "    loss_epoch_validation[e] = epoch_loss"
   ]
  },
  {
   "cell_type": "code",
   "execution_count": 30,
   "id": "8255e493",
   "metadata": {},
   "outputs": [],
   "source": [
    "def decode(code: str):\n",
    "    out = ' '\n",
    "    for chunk in code.split(' '):\n",
    "        num = ds.encode_morse('^ ' + chunk + ' $').unsqueeze(1)\n",
    "        pred = model(num.cuda(), maxlen=2)\n",
    "        pred = pred[1:].view(-1, pred_dim).argmax(-1)\n",
    "        out += ds.decode_alpha(pred.cpu())[::-1]\n",
    "    return out"
   ]
  },
  {
   "cell_type": "code",
   "execution_count": 31,
   "id": "3b9034b8",
   "metadata": {},
   "outputs": [
    {
     "name": "stdout",
     "output_type": "stream",
     "text": [
      " answer the following\n",
      "  * why is the order of the output reversed\n",
      "  * what is the point of teacher forcing\n"
     ]
    }
   ],
   "source": [
    "print(decode(\".- -. ... .-- . .-. / - .... . / ..-. --- .-.. .-.. --- .-- .. -. --.\"))\n",
    "#               .- -. ... .-- . .-. / - .... . / ..-. --- .-.. .-.. --- .-- .. -. --.\n",
    "#               .- -. ... .-- . .-. / - .... . / ..-. --- .-.. .-.. --- .-- .. -. --.\n",
    "print(\"  *\" + decode(\".-- .... -.-- / .. ... / - .... . / --- .-. -.. . .-. / --- ..-. / - .... . / --- ..- - .--. ..- - / .-. . ...- . .-. ... . -..\"))\n",
    "#                     • .-- .... -.-- / .. ... / - .... . / --- .-. -.. . .-. / --- ..-. / -.... . / --- ..- - .--. ..- - / .-. . ...- . .-. ... . -..\n",
    "print(\"  *\" + decode(\".-- .... .- - / .. ... / - .... . / .--. --- .. -. - / --- ..-. / - . .- -.-. .... . .-. / ..-. --- .-. -.-. .. -. --.\"))\n",
    "#                     • .-- .... .- - / .. ... / - .... . / .--. --- .. -. - / --- ..-. / - . .- -.-. .... . .-. / ..-. --- .-. -.-. .. -. --."
   ]
  },
  {
   "cell_type": "code",
   "execution_count": 51,
   "id": "71659c52",
   "metadata": {},
   "outputs": [
    {
     "name": "stdout",
     "output_type": "stream",
     "text": [
      " answer the following why is the order of the output reversed\n"
     ]
    }
   ],
   "source": [
    "print(decode(\".- -. ... .-- . .-. / - .... . / ..-. --- .-.. .-.. --- .-- .. -. --. / .-- .... -.-- / .. ... / - .... . / --- .-. -.. . .-. / --- ..-. / - .... . / --- ..- - .--. ..- - / .-. . ...- . .-. ... . -..\"))"
   ]
  },
  {
   "cell_type": "code",
   "execution_count": 54,
   "id": "44a82776",
   "metadata": {},
   "outputs": [
    {
     "name": "stdout",
     "output_type": "stream",
     "text": [
      " pswer the following\n"
     ]
    }
   ],
   "source": [
    "print(decode(\".--. ... .-- . .-. / - .... . / ..-. --- .-.. .-.. --- .-- .. -. --.\"))"
   ]
  },
  {
   "cell_type": "code",
   "execution_count": 55,
   "id": "370bd498",
   "metadata": {},
   "outputs": [
    {
     "name": "stdout",
     "output_type": "stream",
     "text": [
      " f\n"
     ]
    }
   ],
   "source": [
    "print(decode(\".--.....--..-./-...../..-.---.-...-..---.--..-.--.\"))"
   ]
  },
  {
   "cell_type": "code",
   "execution_count": 49,
   "id": "5f57f99a",
   "metadata": {},
   "outputs": [
    {
     "name": "stdout",
     "output_type": "stream",
     "text": [
      "Target:  a   Output:  a\n",
      "Target:  b   Output:  b\n",
      "Target:  c   Output:  c\n",
      "Target:  h   Output:  h\n",
      "Target:  q   Output:  y\n",
      "Target:  y   Output:  y\n",
      "Target:  z   Output:  z\n"
     ]
    }
   ],
   "source": [
    "print(\"Target:  a\", \" \",\"Output:\",decode(\".-\"))\n",
    "print(\"Target:  b\", \" \",\"Output:\",decode(\"-...\"))\n",
    "print(\"Target:  c\", \" \",\"Output:\",decode(\"-.-.\"))\n",
    "print(\"Target:  h\", \" \",\"Output:\",decode(\"....\"))\n",
    "print(\"Target:  q\", \" \",\"Output:\",decode(\"--.-\"))\n",
    "print(\"Target:  y\", \" \",\"Output:\",decode(\"-.--\"))\n",
    "print(\"Target:  z\", \" \",\"Output:\",decode(\"--..\"))\n",
    "\n",
    "# Longer letters use longer sequences, less in the training set\n",
    "# https://towardsdatascience.com/cracking-morse-code-with-rnns-e5883355a6f3"
   ]
  },
  {
   "cell_type": "code",
   "execution_count": 53,
   "id": "8cdbc504",
   "metadata": {},
   "outputs": [
    {
     "name": "stdout",
     "output_type": "stream",
     "text": [
      " f\n"
     ]
    }
   ],
   "source": [
    "print(decode(\"..-..-\"))"
   ]
  },
  {
   "cell_type": "code",
   "execution_count": null,
   "id": "20abadb5",
   "metadata": {},
   "outputs": [],
   "source": []
  }
 ],
 "metadata": {
  "kernelspec": {
   "display_name": "Python 3",
   "language": "python",
   "name": "python3"
  },
  "language_info": {
   "codemirror_mode": {
    "name": "ipython",
    "version": 3
   },
   "file_extension": ".py",
   "mimetype": "text/x-python",
   "name": "python",
   "nbconvert_exporter": "python",
   "pygments_lexer": "ipython3",
   "version": "3.8.8"
  }
 },
 "nbformat": 4,
 "nbformat_minor": 5
}
